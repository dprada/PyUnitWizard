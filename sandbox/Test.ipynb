{
 "cells": [
  {
   "cell_type": "code",
   "execution_count": 1,
   "id": "f963cf9e-03b3-40b3-9675-f7eec5b8de74",
   "metadata": {},
   "outputs": [],
   "source": [
    "import pyunitwizard as puw"
   ]
  },
  {
   "cell_type": "code",
   "execution_count": 2,
   "id": "61855fdb-f487-48dc-8113-51543b55cad9",
   "metadata": {},
   "outputs": [],
   "source": [
    "ureg = puw.forms.api_pint.ureg"
   ]
  },
  {
   "cell_type": "code",
   "execution_count": 3,
   "id": "ef3becda-1911-44ad-ab9c-42f5a4614e4d",
   "metadata": {},
   "outputs": [
    {
     "data": {
      "text/html": [
       "2.5 nanometer/picosecond"
      ],
      "text/latex": [
       "$2.5\\ \\frac{\\mathrm{nanometer}}{\\mathrm{picosecond}}$"
      ],
      "text/plain": [
       "2.5 <Unit('nanometer / picosecond')>"
      ]
     },
     "execution_count": 3,
     "metadata": {},
     "output_type": "execute_result"
    }
   ],
   "source": [
    "ureg.Quantity(2.5, 'nanometers/picoseconds')"
   ]
  },
  {
   "cell_type": "code",
   "execution_count": 5,
   "id": "6f47c7c9-3eea-45f6-818d-d2363aa339c3",
   "metadata": {},
   "outputs": [
    {
     "data": {
      "text/plain": [
       "True"
      ]
     },
     "execution_count": 5,
     "metadata": {},
     "output_type": "execute_result"
    }
   ],
   "source": [
    "puw.quantity(2.5, 'nanometers/picoseconds') == ureg.Quantity(2.5, 'nanometers/picoseconds')"
   ]
  },
  {
   "cell_type": "code",
   "execution_count": null,
   "id": "585db8fb-c6dc-4c12-a276-b2a8cb9076d6",
   "metadata": {},
   "outputs": [],
   "source": []
  }
 ],
 "metadata": {
  "kernelspec": {
   "display_name": "Python 3 (ipykernel)",
   "language": "python",
   "name": "python3"
  },
  "language_info": {
   "codemirror_mode": {
    "name": "ipython",
    "version": 3
   },
   "file_extension": ".py",
   "mimetype": "text/x-python",
   "name": "python",
   "nbconvert_exporter": "python",
   "pygments_lexer": "ipython3",
   "version": "3.10.12"
  }
 },
 "nbformat": 4,
 "nbformat_minor": 5
}
