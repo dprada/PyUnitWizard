{
 "cells": [
  {
   "cell_type": "code",
   "execution_count": 1,
   "id": "f963cf9e-03b3-40b3-9675-f7eec5b8de74",
   "metadata": {},
   "outputs": [],
   "source": [
    "import pyunitwizard as puw"
   ]
  },
  {
   "cell_type": "code",
   "execution_count": 2,
   "id": "0ba781fe-b700-4562-bd96-3ad441e062e8",
   "metadata": {},
   "outputs": [
    {
     "data": {
      "text/plain": [
       "['pint', 'openmm.unit', 'unyt']"
      ]
     },
     "execution_count": 2,
     "metadata": {},
     "output_type": "execute_result"
    }
   ],
   "source": [
    "puw.configure.get_libraries_supported()"
   ]
  },
  {
   "cell_type": "code",
   "execution_count": 3,
   "id": "3cb5ad41-1066-4da5-9a0d-113388630232",
   "metadata": {},
   "outputs": [
    {
     "data": {
      "text/plain": [
       "['pint', 'openmm.unit', 'unyt']"
      ]
     },
     "execution_count": 3,
     "metadata": {},
     "output_type": "execute_result"
    }
   ],
   "source": [
    "puw.configure.get_libraries_loaded()"
   ]
  },
  {
   "cell_type": "code",
   "execution_count": null,
   "id": "a128a665-aec6-4f19-b8a6-ddec4279d055",
   "metadata": {},
   "outputs": [],
   "source": [
    "puw.configure.reset()"
   ]
  },
  {
   "cell_type": "code",
   "execution_count": null,
   "id": "ded768cf-3188-42b7-9583-5cc87484d609",
   "metadata": {},
   "outputs": [],
   "source": [
    "puw.forms.load_library('openmm.unit')"
   ]
  },
  {
   "cell_type": "code",
   "execution_count": 4,
   "id": "e7ab9ab2-aaab-4bca-b1bc-bcd034e46d64",
   "metadata": {},
   "outputs": [],
   "source": [
    "aa = puw.unit('nm', form='openmm.unit')"
   ]
  },
  {
   "cell_type": "code",
   "execution_count": 8,
   "id": "aa492746-f2aa-4cde-85bf-f1cdb695e207",
   "metadata": {},
   "outputs": [
    {
     "data": {
      "text/plain": [
       "'nanometer'"
      ]
     },
     "execution_count": 8,
     "metadata": {},
     "output_type": "execute_result"
    }
   ],
   "source": [
    "aa.__str__()"
   ]
  },
  {
   "cell_type": "code",
   "execution_count": 7,
   "id": "6aa0fb8b-59ad-492e-a4d3-e0283b1eb45e",
   "metadata": {},
   "outputs": [
    {
     "ename": "AttributeError",
     "evalue": "'Unit' object has no attribute '_value'",
     "output_type": "error",
     "traceback": [
      "\u001b[0;31m---------------------------------------------------------------------------\u001b[0m",
      "\u001b[0;31mAttributeError\u001b[0m                            Traceback (most recent call last)",
      "Input \u001b[0;32mIn [7]\u001b[0m, in \u001b[0;36m<cell line: 1>\u001b[0;34m()\u001b[0m\n\u001b[0;32m----> 1\u001b[0m \u001b[43mpuw\u001b[49m\u001b[38;5;241;43m.\u001b[39;49m\u001b[43mconvert\u001b[49m\u001b[43m(\u001b[49m\u001b[43maa\u001b[49m\u001b[43m,\u001b[49m\u001b[43m \u001b[49m\u001b[43mto_form\u001b[49m\u001b[38;5;241;43m=\u001b[39;49m\u001b[38;5;124;43m'\u001b[39;49m\u001b[38;5;124;43mpint\u001b[39;49m\u001b[38;5;124;43m'\u001b[39;49m\u001b[43m)\u001b[49m\n",
      "File \u001b[0;32m~/projects@dprada/PyUnitWizard/pyunitwizard/main.py:553\u001b[0m, in \u001b[0;36mconvert\u001b[0;34m(quantity_or_unit, to_unit, to_form, parser, to_type)\u001b[0m\n\u001b[1;32m    551\u001b[0m     output \u001b[38;5;241m=\u001b[39m quantity_or_unit\n\u001b[1;32m    552\u001b[0m \u001b[38;5;28;01melse\u001b[39;00m:\n\u001b[0;32m--> 553\u001b[0m     output \u001b[38;5;241m=\u001b[39m \u001b[43mdict_translate\u001b[49m\u001b[43m[\u001b[49m\u001b[43mform_in\u001b[49m\u001b[43m]\u001b[49m\u001b[43m[\u001b[49m\u001b[43mto_form\u001b[49m\u001b[43m]\u001b[49m\u001b[43m(\u001b[49m\u001b[43mquantity_or_unit\u001b[49m\u001b[43m)\u001b[49m\n\u001b[1;32m    555\u001b[0m \u001b[38;5;28;01mif\u001b[39;00m to_unit \u001b[38;5;129;01mis\u001b[39;00m \u001b[38;5;129;01mnot\u001b[39;00m \u001b[38;5;28;01mNone\u001b[39;00m:\n\u001b[1;32m    556\u001b[0m     output \u001b[38;5;241m=\u001b[39m dict_convert[to_form](output, to_unit)\n",
      "File \u001b[0;32m~/projects@dprada/PyUnitWizard/pyunitwizard/forms/api_openmm_unit.py:227\u001b[0m, in \u001b[0;36mto_pint\u001b[0;34m(quantity)\u001b[0m\n\u001b[1;32m    213\u001b[0m \u001b[38;5;124;03m\"\"\" Transform a quantity from openmm.unit to a pint quantity.\u001b[39;00m\n\u001b[1;32m    214\u001b[0m \u001b[38;5;124;03m    \u001b[39;00m\n\u001b[1;32m    215\u001b[0m \u001b[38;5;124;03m    Parameters\u001b[39;00m\n\u001b[0;32m   (...)\u001b[0m\n\u001b[1;32m    223\u001b[0m \u001b[38;5;124;03m        The quantity.\u001b[39;00m\n\u001b[1;32m    224\u001b[0m \u001b[38;5;124;03m\"\"\"\u001b[39;00m\n\u001b[1;32m    225\u001b[0m \u001b[38;5;28;01mfrom\u001b[39;00m \u001b[38;5;21;01m.\u001b[39;00m\u001b[38;5;21;01mapi_pint\u001b[39;00m \u001b[38;5;28;01mimport\u001b[39;00m make_quantity \u001b[38;5;28;01mas\u001b[39;00m make_pint_quantity\n\u001b[0;32m--> 227\u001b[0m value \u001b[38;5;241m=\u001b[39m \u001b[43mget_value\u001b[49m\u001b[43m(\u001b[49m\u001b[43mquantity\u001b[49m\u001b[43m)\u001b[49m\n\u001b[1;32m    228\u001b[0m unit_name \u001b[38;5;241m=\u001b[39m to_string(get_unit(quantity))\n\u001b[1;32m    230\u001b[0m \u001b[38;5;28;01mreturn\u001b[39;00m make_pint_quantity(value, unit_name)\n",
      "File \u001b[0;32m~/projects@dprada/PyUnitWizard/pyunitwizard/forms/api_openmm_unit.py:190\u001b[0m, in \u001b[0;36mget_value\u001b[0;34m(quantity)\u001b[0m\n\u001b[1;32m    177\u001b[0m \u001b[38;5;28;01mdef\u001b[39;00m \u001b[38;5;21mget_value\u001b[39m(quantity: openmm_unit\u001b[38;5;241m.\u001b[39mQuantity) \u001b[38;5;241m-\u001b[39m\u001b[38;5;241m>\u001b[39m Union[\u001b[38;5;28mint\u001b[39m, \u001b[38;5;28mfloat\u001b[39m, ArrayLike]:\n\u001b[1;32m    178\u001b[0m     \u001b[38;5;124;03m\"\"\" Returns the value of the quantity.\u001b[39;00m\n\u001b[1;32m    179\u001b[0m \u001b[38;5;124;03m        \u001b[39;00m\n\u001b[1;32m    180\u001b[0m \u001b[38;5;124;03m        Parameters\u001b[39;00m\n\u001b[0;32m   (...)\u001b[0m\n\u001b[1;32m    188\u001b[0m \u001b[38;5;124;03m            The value.\u001b[39;00m\n\u001b[1;32m    189\u001b[0m \u001b[38;5;124;03m    \"\"\"\u001b[39;00m\n\u001b[0;32m--> 190\u001b[0m     \u001b[38;5;28;01mreturn\u001b[39;00m \u001b[43mquantity\u001b[49m\u001b[38;5;241;43m.\u001b[39;49m\u001b[43m_value\u001b[49m\n",
      "\u001b[0;31mAttributeError\u001b[0m: 'Unit' object has no attribute '_value'"
     ]
    }
   ],
   "source": [
    "puw.convert(aa, to_form='pint')"
   ]
  },
  {
   "cell_type": "code",
   "execution_count": null,
   "id": "1906c419-f856-42bb-a68d-445691ba3d72",
   "metadata": {},
   "outputs": [],
   "source": []
  }
 ],
 "metadata": {
  "kernelspec": {
   "display_name": "Python 3 (ipykernel)",
   "language": "python",
   "name": "python3"
  },
  "language_info": {
   "codemirror_mode": {
    "name": "ipython",
    "version": 3
   },
   "file_extension": ".py",
   "mimetype": "text/x-python",
   "name": "python",
   "nbconvert_exporter": "python",
   "pygments_lexer": "ipython3",
   "version": "3.9.15"
  }
 },
 "nbformat": 4,
 "nbformat_minor": 5
}
